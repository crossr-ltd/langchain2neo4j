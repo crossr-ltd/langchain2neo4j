import openai

embedding = openai.Embedding.create(
    input="H3C3", model="text-embedding-ada-002"
)["data"][0]["embedding"]
len(embedding)